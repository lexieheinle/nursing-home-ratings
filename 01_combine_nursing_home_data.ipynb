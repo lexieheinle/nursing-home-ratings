{
 "cells": [
  {
   "cell_type": "code",
   "execution_count": 80,
   "metadata": {
    "collapsed": true
   },
   "outputs": [],
   "source": [
    "import csv\n",
    "import agate\n",
    "from pprint import pprint\n",
    "from datetime import datetime\n",
    "import json\n",
    "import random\n",
    "from titlecase import titlecase"
   ]
  },
  {
   "cell_type": "code",
   "execution_count": 81,
   "metadata": {
    "collapsed": true
   },
   "outputs": [],
   "source": [
    "local_homes = {}"
   ]
  },
  {
   "cell_type": "code",
   "execution_count": 82,
   "metadata": {
    "collapsed": false
   },
   "outputs": [],
   "source": [
    "with open('local_homes_keys.csv', 'r') as datefile:\n",
    "    reader = csv.DictReader(datefile)\n",
    "    for row in reader:\n",
    "        local_homes[row['fed_num']] = {'name': row['provider_name']}"
   ]
  },
  {
   "cell_type": "code",
   "execution_count": 83,
   "metadata": {
    "collapsed": false
   },
   "outputs": [],
   "source": [
    "with open('new_york_state_star_ratings_current.csv', 'r', encoding='iso-8859-1') as datefile:\n",
    "    reader = csv.DictReader(datefile)\n",
    "    for row in reader:\n",
    "        if row['Federal Provider Number'] in local_homes:\n",
    "            location_list = row['Location'].split('\\n')\n",
    "            local_homes[row['Federal Provider Number']]['location'] = location_list[0] + ' ' + location_list[1]\n",
    "            local_homes[row['Federal Provider Number']]['ratings'] = {row['Processing Date']: {'overall_rate': row['Overall Rating'], 'qm_rate': row['QM Rating'], 'rn_staff_rate': row['RN Staffing Rating'], 'staff_rate': row['Staffing Rating'] }}"
   ]
  },
  {
   "cell_type": "code",
   "execution_count": 84,
   "metadata": {
    "collapsed": false
   },
   "outputs": [
    {
     "name": "stdout",
     "output_type": "stream",
     "text": [
      "{'335056': {'location': '4459 BAILEY AVE AMHERST, NY 14226',\n",
      "            'name': 'ELDERWOOD AT AMHERST',\n",
      "            'ratings': {'6/1/18': {'overall_rate': '4',\n",
      "                                   'qm_rate': '3',\n",
      "                                   'rn_staff_rate': '4',\n",
      "                                   'staff_rate': '4'}}},\n",
      " '335112': {'location': '10570 BERGTOLD ROAD CLARENCE, NY 14031',\n",
      "            'name': 'BROTHERS OF MERCY NURSING & REHABILITATION CENTER',\n",
      "            'ratings': {'6/1/18': {'overall_rate': '5',\n",
      "                                   'qm_rate': '5',\n",
      "                                   'rn_staff_rate': '4',\n",
      "                                   'staff_rate': '4'}}},\n",
      " '335164': {'location': '64 HAGER STREET BUFFALO, NY 14208',\n",
      "            'name': 'HUMBOLDT HOUSE REHABILITATION AND NURSING CENTER',\n",
      "            'ratings': {'6/1/18': {'overall_rate': '1',\n",
      "                                   'qm_rate': '4',\n",
      "                                   'rn_staff_rate': '2',\n",
      "                                   'staff_rate': '2'}}},\n",
      " '335172': {'location': '147 REIST STREET WILLIAMSVILLE, NY 14221',\n",
      "            'name': 'COMPREHENSIVE REHAB & NURSING CTR AT WILLIAMSVILLE',\n",
      "            'ratings': {'6/1/18': {'overall_rate': '1',\n",
      "                                   'qm_rate': '2',\n",
      "                                   'rn_staff_rate': '3',\n",
      "                                   'staff_rate': '3'}}},\n",
      " '335176': {'location': '2700 NORTH FOREST ROAD GETZVILLE, NY 14068',\n",
      "            'name': 'ROSA COPLON JEWISH HOME AND INFIRMARY',\n",
      "            'ratings': {'6/1/18': {'overall_rate': '3',\n",
      "                                   'qm_rate': '5',\n",
      "                                   'rn_staff_rate': '3',\n",
      "                                   'staff_rate': '3'}}},\n",
      " '335180': {'location': '2799 SHERIDAN DRIVE TONAWANDA, NY 14150',\n",
      "            'name': 'SAFIRE REHABILITATION OF NORTHTOWNS, L L C',\n",
      "            'ratings': {'6/1/18': {'overall_rate': '1',\n",
      "                                   'qm_rate': '3',\n",
      "                                   'rn_staff_rate': '4',\n",
      "                                   'staff_rate': '3'}}},\n",
      " '335182': {'location': '5949 BROADWAY LANCASTER, NY 14086',\n",
      "            'name': 'GREENFIELD HEALTH AND REHABILITATION CENTER',\n",
      "            'ratings': {'6/1/18': {'overall_rate': '5',\n",
      "                                   'qm_rate': '5',\n",
      "                                   'rn_staff_rate': '4',\n",
      "                                   'staff_rate': '4'}}},\n",
      " '335281': {'location': '292 MAIN STREET EAST AURORA, NY 14052',\n",
      "            'name': 'ABSOLUT CTR FOR NURSING & REHAB AURORA PARK L L C',\n",
      "            'ratings': {'6/1/18': {'overall_rate': '1',\n",
      "                                   'qm_rate': '1',\n",
      "                                   'rn_staff_rate': '2',\n",
      "                                   'staff_rate': '2'}}},\n",
      " '335308': {'location': '55 MELROY AVENUE LACKAWANNA, NY 14218',\n",
      "            'name': 'MERCY HOSPITAL SKILLED NURSING FACILITY',\n",
      "            'ratings': {'6/1/18': {'overall_rate': '5',\n",
      "                                   'qm_rate': '5',\n",
      "                                   'rn_staff_rate': '5',\n",
      "                                   'staff_rate': '5'}}},\n",
      " '335326': {'location': '200 BASSETT ROAD WILLIAMSVILLE, NY 14221',\n",
      "            'name': 'ELDERWOOD AT WILLIAMSVILLE',\n",
      "            'ratings': {'6/1/18': {'overall_rate': '4',\n",
      "                                   'qm_rate': '3',\n",
      "                                   'rn_staff_rate': '3',\n",
      "                                   'staff_rate': '3'}}},\n",
      " '335376': {'location': '621 TENTH STREET NIAGARA FALLS, NY 14302',\n",
      "            'name': 'SCHOELLKOPF HEALTH CENTER',\n",
      "            'ratings': {'6/1/18': {'overall_rate': '5',\n",
      "                                   'qm_rate': '5',\n",
      "                                   'rn_staff_rate': '',\n",
      "                                   'staff_rate': ''}}},\n",
      " '335391': {'location': '2850 GRAND ISLAND BLVD GRAND ISLAND, NY 14072',\n",
      "            'name': 'ELDERWOOD AT GRAND ISLAND',\n",
      "            'ratings': {'6/1/18': {'overall_rate': '2',\n",
      "                                   'qm_rate': '5',\n",
      "                                   'rn_staff_rate': '4',\n",
      "                                   'staff_rate': '4'}}},\n",
      " '335419': {'location': '2157 MAIN STREET BUFFALO, NY 14214',\n",
      "            'name': 'ST CATHERINE LABOURE HEALTH CARE CENTER',\n",
      "            'ratings': {'6/1/18': {'overall_rate': '5',\n",
      "                                   'qm_rate': '5',\n",
      "                                   'rn_staff_rate': '4',\n",
      "                                   'staff_rate': '4'}}},\n",
      " '335433': {'location': '1503 MILITARY ROAD KENMORE, NY 14217',\n",
      "            'name': 'MCAULEY RESIDENCE',\n",
      "            'ratings': {'6/1/18': {'overall_rate': '5',\n",
      "                                   'qm_rate': '5',\n",
      "                                   'rn_staff_rate': '5',\n",
      "                                   'staff_rate': '4'}}},\n",
      " '335435': {'location': '222 EAST MAIN STREET SPRINGVILLE, NY 14141',\n",
      "            'name': 'JENNIE B RICHMOND CHAFFEE NURSING HOME CO., INC.',\n",
      "            'ratings': {'6/1/18': {'overall_rate': '1',\n",
      "                                   'qm_rate': '1',\n",
      "                                   'rn_staff_rate': '4',\n",
      "                                   'staff_rate': '4'}}},\n",
      " '335437': {'location': '200 SEVENTH STREET BUFFALO, NY 14201',\n",
      "            'name': 'ELLICOTT CENTER FOR REHABILITATION AND NURSING',\n",
      "            'ratings': {'6/1/18': {'overall_rate': '2',\n",
      "                                   'qm_rate': '5',\n",
      "                                   'rn_staff_rate': '3',\n",
      "                                   'staff_rate': '3'}}},\n",
      " '335457': {'location': '168 WEST MAIN STREET SPRINGVILLE, NY 14141',\n",
      "            'name': 'FIDDLERS GREEN MANOR REHABILITATION & NURSING CTR',\n",
      "            'ratings': {'6/1/18': {'overall_rate': '1',\n",
      "                                   'qm_rate': '2',\n",
      "                                   'rn_staff_rate': '1',\n",
      "                                   'staff_rate': '1'}}},\n",
      " '335468': {'location': '2235 MILLERSPORT HIGHWAY GETZVILLE, NY 14068',\n",
      "            'name': 'BEECHWOOD HOMES',\n",
      "            'ratings': {'6/1/18': {'overall_rate': '3',\n",
      "                                   'qm_rate': '2',\n",
      "                                   'rn_staff_rate': '4',\n",
      "                                   'staff_rate': '4'}}},\n",
      " '335481': {'location': '2709 TRANSIT RD NEWFANE, NY 14108',\n",
      "            'name': 'NEWFANE REHAB AND HEALTH CARE CENTER',\n",
      "            'ratings': {'6/1/18': {'overall_rate': '1',\n",
      "                                   'qm_rate': '4',\n",
      "                                   'rn_staff_rate': '3',\n",
      "                                   'staff_rate': '3'}}},\n",
      " '335500': {'location': '104 OLD NIAGARA ROAD LOCKPORT, NY 14094',\n",
      "            'name': 'ELDERWOOD AT LOCKPORT',\n",
      "            'ratings': {'6/1/18': {'overall_rate': '3',\n",
      "                                   'qm_rate': '4',\n",
      "                                   'rn_staff_rate': '3',\n",
      "                                   'staff_rate': '4'}}},\n",
      " '335504': {'location': '2987 SENECA STREET WEST SENECA, NY 14224',\n",
      "            'name': 'SENECA HEALTH CARE CENTER',\n",
      "            'ratings': {'6/1/18': {'overall_rate': '5',\n",
      "                                   'qm_rate': '5',\n",
      "                                   'rn_staff_rate': '4',\n",
      "                                   'staff_rate': '4'}}},\n",
      " '335507': {'location': '6060 ARMOR ROAD ORCHARD PARK, NY 14127',\n",
      "            'name': 'ABSOLUT CTR FOR NURSING & REHAB ORCHARD PARK L L C',\n",
      "            'ratings': {'6/1/18': {'overall_rate': '1',\n",
      "                                   'qm_rate': '2',\n",
      "                                   'rn_staff_rate': '3',\n",
      "                                   'staff_rate': '3'}}},\n",
      " '335533': {'location': '4540 LINCOLN DRIVE GASPORT, NY 14067',\n",
      "            'name': 'ABSOLUT CTR FOR NURSING & REHAB GASPORT L L C',\n",
      "            'ratings': {'6/1/18': {'overall_rate': '3',\n",
      "                                   'qm_rate': '2',\n",
      "                                   'rn_staff_rate': '3',\n",
      "                                   'staff_rate': '3'}}},\n",
      " '335573': {'location': '909 LINCOLN AVE LOCKPORT, NY 14094',\n",
      "            'name': 'LOCKPORT REHAB & HEALTH CARE CENTER',\n",
      "            'ratings': {'6/1/18': {'overall_rate': '5',\n",
      "                                   'qm_rate': '5',\n",
      "                                   'rn_staff_rate': '4',\n",
      "                                   'staff_rate': '4'}}},\n",
      " '335577': {'location': '1818 COMO PARK BLVD LANCASTER, NY 14086',\n",
      "            'name': 'ELDERWOOD AT LANCASTER',\n",
      "            'ratings': {'6/1/18': {'overall_rate': '5',\n",
      "                                   'qm_rate': '5',\n",
      "                                   'rn_staff_rate': '5',\n",
      "                                   'staff_rate': '4'}}},\n",
      " '335593': {'location': '1175 DELAWARE AVE BUFFALO, NY 14209',\n",
      "            'name': 'EMERALD SOUTH NURSING AND REHABILITATION CENTER',\n",
      "            'ratings': {'6/1/18': {'overall_rate': '2',\n",
      "                                   'qm_rate': '5',\n",
      "                                   'rn_staff_rate': '1',\n",
      "                                   'staff_rate': '1'}}},\n",
      " '335603': {'location': '3333 ELMWOOD AVENUE KENMORE, NY 14217',\n",
      "            'name': 'SCHOFIELD RESIDENCE',\n",
      "            'ratings': {'6/1/18': {'overall_rate': '5',\n",
      "                                   'qm_rate': '5',\n",
      "                                   'rn_staff_rate': '4',\n",
      "                                   'staff_rate': '4'}}},\n",
      " '335607': {'location': '2806 GEORGE STREET EDEN, NY 14057',\n",
      "            'name': 'ABSOLUT CTR FOR NURSING & REHAB EDEN L L C',\n",
      "            'ratings': {'6/1/18': {'overall_rate': '4',\n",
      "                                   'qm_rate': '5',\n",
      "                                   'rn_staff_rate': '3',\n",
      "                                   'staff_rate': '3'}}},\n",
      " '335634': {'location': '2365 UNION ROAD CHEEKTOWAGA, NY 14227',\n",
      "            'name': 'GARDEN GATE HEALTH CARE FACILITY',\n",
      "            'ratings': {'6/1/18': {'overall_rate': '5',\n",
      "                                   'qm_rate': '5',\n",
      "                                   'rn_staff_rate': '4',\n",
      "                                   'staff_rate': '4'}}},\n",
      " '335638': {'location': '1014 DELAWARE AVE BUFFALO, NY 14209',\n",
      "            'name': 'BUFFALO CENTER FOR REHABILITATION AND NURSING',\n",
      "            'ratings': {'6/1/18': {'overall_rate': '2',\n",
      "                                   'qm_rate': '5',\n",
      "                                   'rn_staff_rate': '3',\n",
      "                                   'staff_rate': '3'}}},\n",
      " '335640': {'location': '1205 DELAWARE AVENUE BUFFALO, NY 14209',\n",
      "            'name': 'EMERALD NORTH NURSING AND REHABILITATION CENTER',\n",
      "            'ratings': {'6/1/18': {'overall_rate': '2',\n",
      "                                   'qm_rate': '3',\n",
      "                                   'rn_staff_rate': '4',\n",
      "                                   'staff_rate': '4'}}},\n",
      " '335647': {'location': '163 SOUTH UNION ROAD WILLIAMSVILLE, NY 14221',\n",
      "            'name': 'WILLIAMSVILLE SUBURBAN L L C',\n",
      "            'ratings': {'6/1/18': {'overall_rate': '2',\n",
      "                                   'qm_rate': '5',\n",
      "                                   'rn_staff_rate': '3',\n",
      "                                   'staff_rate': '2'}}},\n",
      " '335649': {'location': '7264 NASH ROAD NORTH TONAWANDA, NY 14120',\n",
      "            'name': 'NORTH GATE HEALTH CARE FACILITY',\n",
      "            'ratings': {'6/1/18': {'overall_rate': '5',\n",
      "                                   'qm_rate': '5',\n",
      "                                   'rn_staff_rate': '3',\n",
      "                                   'staff_rate': '4'}}},\n",
      " '335650': {'location': '462 GRIDER STREET BUFFALO, NY 14215',\n",
      "            'name': 'TERRACE VIEW LONG TERM CARE FACILITY',\n",
      "            'ratings': {'6/1/18': {'overall_rate': '4',\n",
      "                                   'qm_rate': '5',\n",
      "                                   'rn_staff_rate': '3',\n",
      "                                   'staff_rate': '4'}}},\n",
      " '335662': {'location': '4650 SOUTHWESTERN BLVD HAMBURG, NY 14075',\n",
      "            'name': 'AUTUMN VIEW HEALTH CARE FACILITY L L C',\n",
      "            'ratings': {'6/1/18': {'overall_rate': '5',\n",
      "                                   'qm_rate': '5',\n",
      "                                   'rn_staff_rate': '3',\n",
      "                                   'staff_rate': '4'}}},\n",
      " '335663': {'location': '300 DORRANCE AVENUE BUFFALO, NY 14220',\n",
      "            'name': 'SAFIRE REHABILITATION OF SOUTHTOWN, L L C',\n",
      "            'ratings': {'6/1/18': {'overall_rate': '2',\n",
      "                                   'qm_rate': '5',\n",
      "                                   'rn_staff_rate': '2',\n",
      "                                   'staff_rate': '2'}}},\n",
      " '335669': {'location': '445 TREMONT STREET NORTH TONAWANDA, NY 14120',\n",
      "            'name': 'DEGRAFF MEMORIAL HOSPITAL-SKILLED NURSING FACILITY',\n",
      "            'ratings': {'6/1/18': {'overall_rate': '4',\n",
      "                                   'qm_rate': '5',\n",
      "                                   'rn_staff_rate': '5',\n",
      "                                   'staff_rate': '4'}}},\n",
      " '335679': {'location': '5775 MAELOU DRIVE HAMBURG, NY 14075',\n",
      "            'name': 'ELDERWOOD AT HAMBURG',\n",
      "            'ratings': {'6/1/18': {'overall_rate': '4',\n",
      "                                   'qm_rate': '5',\n",
      "                                   'rn_staff_rate': '5',\n",
      "                                   'staff_rate': '4'}}},\n",
      " '335742': {'location': '822 CEDAR AVENUE NIAGARA FALLS, NY 14301',\n",
      "            'name': 'NIAGARA REHABILITATION AND NURSING CENTER',\n",
      "            'ratings': {'6/1/18': {'overall_rate': '2',\n",
      "                                   'qm_rate': '5',\n",
      "                                   'rn_staff_rate': '3',\n",
      "                                   'staff_rate': '2'}}},\n",
      " '335752': {'location': '225 BENNETT ROAD CHEEKTOWAGA, NY 14227',\n",
      "            'name': 'ELDERWOOD AT CHEEKTOWAGA',\n",
      "            'ratings': {'6/1/18': {'overall_rate': '4',\n",
      "                                   'qm_rate': '4',\n",
      "                                   'rn_staff_rate': '4',\n",
      "                                   'staff_rate': '4'}}},\n",
      " '335757': {'location': '2699 WEHRLE DRIVE WILLIAMSVILLE, NY 14221',\n",
      "            'name': 'HARRIS HILL NURSING FACILITY L L C',\n",
      "            'ratings': {'6/1/18': {'overall_rate': '5',\n",
      "                                   'qm_rate': '5',\n",
      "                                   'rn_staff_rate': '4',\n",
      "                                   'staff_rate': '4'}}},\n",
      " '335777': {'location': '6400 POWERS ROAD ORCHARD PARK, NY 14127',\n",
      "            'name': 'FATHER BAKER MANOR',\n",
      "            'ratings': {'6/1/18': {'overall_rate': '5',\n",
      "                                   'qm_rate': '5',\n",
      "                                   'rn_staff_rate': '5',\n",
      "                                   'staff_rate': '4'}}},\n",
      " '335790': {'location': '2600 NIAGARA FALLS BOULEVARD NIAGARA FALLS, NY 14304',\n",
      "            'name': 'ELDERWOOD AT WHEATFIELD',\n",
      "            'ratings': {'6/1/18': {'overall_rate': '4',\n",
      "                                   'qm_rate': '2',\n",
      "                                   'rn_staff_rate': '5',\n",
      "                                   'staff_rate': '4'}}},\n",
      " '335816': {'location': '725 RENAISSANCE DRIVE WILLIAMSVILLE, NY 14221',\n",
      "            'name': 'CANTERBURY WOODS',\n",
      "            'ratings': {'6/1/18': {'overall_rate': '5',\n",
      "                                   'qm_rate': '5',\n",
      "                                   'rn_staff_rate': '3',\n",
      "                                   'staff_rate': '4'}}},\n",
      " '335834': {'location': '1031 MICHIGAN AVE BUFFALO, NY 14203',\n",
      "            'name': 'HIGHPOINTE ON MICHIGAN HEALTH CARE FACILITY',\n",
      "            'ratings': {'6/1/18': {'overall_rate': '2',\n",
      "                                   'qm_rate': '5',\n",
      "                                   'rn_staff_rate': '4',\n",
      "                                   'staff_rate': '4'}}},\n",
      " '335843': {'location': '5285 LEWISTON ROAD LEWISTON, NY 14092',\n",
      "            'name': 'OUR LADY OF PEACE NURSING CARE RESIDENCE',\n",
      "            'ratings': {'6/1/18': {'overall_rate': '4',\n",
      "                                   'qm_rate': '4',\n",
      "                                   'rn_staff_rate': '2',\n",
      "                                   'staff_rate': '2'}}},\n",
      " '335854': {'location': 'ONE FOX RUN LANE ORCHARD PARK, NY 14127',\n",
      "            'name': 'FOX RUN AT ORCHARD PARK',\n",
      "            'ratings': {'6/1/18': {'overall_rate': '5',\n",
      "                                   'qm_rate': '5',\n",
      "                                   'rn_staff_rate': '4',\n",
      "                                   'staff_rate': '4'}}}}\n"
     ]
    }
   ],
   "source": [
    "pprint(local_homes)"
   ]
  },
  {
   "cell_type": "code",
   "execution_count": 85,
   "metadata": {
    "collapsed": false
   },
   "outputs": [],
   "source": [
    "state_info = {}\n",
    "with open('state_home_info.csv', 'r', encoding='iso-8859-1') as datefile:\n",
    "    reader = csv.DictReader(datefile)\n",
    "    for row in reader:\n",
    "        medi_key = row['MEDICARE_NUMBER']\n",
    "        if medi_key in local_homes:\n",
    "            state_info[row['FACILITY_ID']] = row\n",
    "            local_homes[medi_key]['name'] = row['FACILITY_NAME'].strip()\n",
    "            local_homes[medi_key]['beds'] = int(row['TOTAL_BEDS'])"
   ]
  },
  {
   "cell_type": "code",
   "execution_count": 86,
   "metadata": {
    "collapsed": false
   },
   "outputs": [
    {
     "name": "stdout",
     "output_type": "stream",
     "text": [
      "True\n"
     ]
    }
   ],
   "source": [
    "print(len(state_info) == len(local_homes))"
   ]
  },
  {
   "cell_type": "code",
   "execution_count": 87,
   "metadata": {
    "collapsed": true
   },
   "outputs": [],
   "source": [
    "medicaid_name_fixes = {'Odd Fellow & Rebekah Rehabilitation & Health Care Center Inc': 'Odd Fellow & Rebekah Rehabilitation&Health Care Center Inc', 'Williamsville Suburban LLC': 'Williamsville Suburban LLC', 'Brothers Of Mercy Nursing & Rehabilitation Center': 'Brothers of Mercy Nursing & Rehabilitation Center', 'Briody Rehab and Residential Health Care Center': 'Briody Rehab & Residential Health Care Center', 'Greenfield Health and Rehabilitation Center':'Greenfield Health & Rehab Center','Degraff Memorial Hospital-skilled Nursing Facility': 'Degraff Memorial Hospital-Skilled Nursing Facility', 'Beechwood  Homes': 'Beechwood Homes', 'Waterfront Center for Rehabilitation and Healthcare': 'Ellicott Center for Rehabilitation and Nursing'   }\n",
    "#medicaid_name_fixes = {'Absolut Center for Nursing and Rehabilitation at Eden': 'ABSOLUT CTR FOR NURSING & REHAB EDEN L L C', 'Fiddlers Green Manor Rehabilitation and Nursing Center': 'FIDDLERS GREEN MANOR REHABILITATION & NURSING CTR', 'Absolut Center for Nursing and Rehabilitation at Auror': 'ABSOLUT CTR FOR NURSING & REHAB AURORA PARK L L C', 'Jennie B Richmond Chaffee Nursing Home Company Inc': 'JENNIE B RICHMOND CHAFFEE NURSING HOME CO., INC.', 'Comprehensive Rehabilitation and Nursing Center at Williamsville': 'COMPREHENSIVE REHAB & NURSING CTR AT WILLIAMSVILLE', 'Safire Rehabilitation of Northtowns LLC': 'SAFIRE REHABILITATION OF NORTHTOWNS, L L C', 'Safire Rehabilitation of Southtowns LLC': 'SAFIRE REHABILITATION OF SOUTHTOWN, L L C', 'Absolut Center for Nursing and Rehabilitation at Orcha': 'ABSOLUT CTR FOR NURSING & REHAB ORCHARD PARK L L C', 'Newfane Rehab & Health Care Center': 'NEWFANE REHAB AND HEALTH CARE CENTER', 'Absolut Center for Nursing and Rehabilitation at Gaspo': 'ABSOLUT CTR FOR NURSING & REHAB GASPORT L L C', 'Beechwood  Homes': 'BEECHWOOD HOMES'}"
   ]
  },
  {
   "cell_type": "code",
   "execution_count": 88,
   "metadata": {
    "collapsed": false
   },
   "outputs": [
    {
     "name": "stdout",
     "output_type": "stream",
     "text": [
      "47\n"
     ]
    }
   ],
   "source": [
    "found_names = 0\n",
    "found_keys = []\n",
    "with open('medicaid_private_pay_2016.csv', 'r', encoding='iso-8859-1') as datefile:\n",
    "    reader = csv.DictReader(datefile)\n",
    "    for row in reader:\n",
    "        if row['Name'] != '':\n",
    "            if row['Name'] in medicaid_name_fixes:\n",
    "                for home, info in local_homes.items():\n",
    "                    if medicaid_name_fixes[row['Name']] == info['name']:\n",
    "                        found_names += 1\n",
    "                        found_keys.append(home)\n",
    "                        local_homes[home]['private_days'] = float(row['% of Total Days Paid for by Private Pay '][:-1])\n",
    "                        break\n",
    "            else:\n",
    "                if ' LLC' in row['Name']:\n",
    "                    name_check = row['Name'].replace(' LLC', ', LLC')\n",
    "                else:\n",
    "                    name_check = row['Name']\n",
    "                for home, info in local_homes.items():\n",
    "                    if name_check in info['name']:\n",
    "                        found_names += 1\n",
    "                        found_keys.append(home)\n",
    "                        local_homes[home]['private_days'] = float(row['% of Total Days Paid for by Private Pay '][:-1])\n",
    "                        break\n",
    "print(found_names)\n",
    "for home, info in local_homes.items():\n",
    "    if home not in found_keys:\n",
    "        print(info['name'])"
   ]
  },
  {
   "cell_type": "code",
   "execution_count": 89,
   "metadata": {
    "collapsed": false
   },
   "outputs": [],
   "source": [
    "with open('state_fines.csv', 'r', encoding='iso-8859-1') as datefile:\n",
    "    reader = csv.DictReader(datefile)\n",
    "    for row in reader:\n",
    "        if row['FACILITY_ID'] in state_info:\n",
    "            medi_key = state_info[row['FACILITY_ID']]['MEDICARE_NUMBER']\n",
    "            strp_date = datetime.strptime(row['STIP_DATE'], '%m/%d/%y 0:00')\n",
    "            if strp_date > datetime(2012, 12,31):\n",
    "                if 'state_fines' in local_homes[medi_key]:\n",
    "                    local_homes[medi_key]['state_fines']['total'] += int(row['FINE_ASSESSED'])\n",
    "                    local_homes[medi_key]['state_fines']['detail'].append({'amt': int(row['FINE_ASSESSED']), 'survey_date': row['SURVEY_DATE'], 'category': row['DEFICIENCY_CATEGORY']})\n",
    "                else:\n",
    "                    local_homes[medi_key]['state_fines'] = {'total': int(row['FINE_ASSESSED']),'detail':[{'amt': int(row['FINE_ASSESSED']), 'survey_date': row['SURVEY_DATE'], 'category': row['DEFICIENCY_CATEGORY']}]}"
   ]
  },
  {
   "cell_type": "code",
   "execution_count": 90,
   "metadata": {
    "collapsed": false
   },
   "outputs": [],
   "source": [
    "with open('medicare_fines.csv', 'r', encoding='iso-8859-1') as datefile:\n",
    "    reader = csv.DictReader(datefile)\n",
    "    for row in reader:\n",
    "        medi_key = row['Federal Provider Number']\n",
    "        if medi_key in local_homes:\n",
    "            if row['Fine Amount'] != '':\n",
    "                strp_date = datetime.strptime(row['Penalty Date'], '%m/%d/%y')\n",
    "                if strp_date > datetime(2012, 12, 31):\n",
    "                    clean_value = int(row['Fine Amount'][1:].replace(',',''))\n",
    "                    if 'federal_fines' in local_homes[medi_key]:\n",
    "                        local_homes[medi_key]['federal_fines']['total'] += clean_value\n",
    "                        local_homes[medi_key]['federal_fines']['detail'].append({'amt': clean_value, 'survey_date': row['Penalty Date']})\n",
    "                    else:\n",
    "                        local_homes[medi_key]['federal_fines'] = {'total': clean_value,'detail':[{'amt': clean_value, 'survey_date': row['Penalty Date']}]}"
   ]
  },
  {
   "cell_type": "code",
   "execution_count": 91,
   "metadata": {
    "collapsed": false
   },
   "outputs": [],
   "source": [
    "with open('bedsores.csv', 'r', encoding='iso-8859-1') as datefile:\n",
    "    reader = csv.DictReader(datefile)\n",
    "    for row in reader:\n",
    "        if row['Measure Code'] == '403':\n",
    "            medi_key = row['Federal Provider Number']\n",
    "            if medi_key in local_homes:\n",
    "                local_homes[medi_key]['bedsores'] = float(row['Four Quarter Average Score'][:-1])"
   ]
  },
  {
   "cell_type": "code",
   "execution_count": 92,
   "metadata": {
    "collapsed": false
   },
   "outputs": [
    {
     "name": "stdout",
     "output_type": "stream",
     "text": [
      "0 ownership data missing\n"
     ]
    }
   ],
   "source": [
    "owners_na = 0\n",
    "with open('medicaid_owners.csv', 'r', encoding='iso-8859-1') as datefile:\n",
    "    reader = csv.DictReader(datefile)\n",
    "    for row in reader:\n",
    "        try:\n",
    "            medi_key = row['Federal Provider Number']\n",
    "        except KeyError:\n",
    "            medi_key = row['PROVNUM']\n",
    "        if medi_key in local_homes:\n",
    "            try:\n",
    "                category = row['Role played by Owner or Manager in Facility']\n",
    "            except KeyError:\n",
    "                category = row['ROLE_DESC']\n",
    "            cat_key = titlecase(category)\n",
    "            if category == 'Ownership Data Not Available':\n",
    "                local_homes[medi_key]['owners'] = 'NA'\n",
    "                owners_na += 1\n",
    "                continue\n",
    "            try:\n",
    "                owner_name = row['Owner Name']\n",
    "            except KeyError:\n",
    "                owner_name = row['OWNER_NAME']\n",
    "            try:\n",
    "                if '%' in row['Ownership Percentage']:\n",
    "                    owner_name += ' ({0})'.format(row['Ownership Percentage'])\n",
    "            except KeyError:\n",
    "                if '%' in row['OWNER_PERCENTAGE']:\n",
    "                    owner_name += ' ({0})'.format(row['OWNER_PERCENTAGE'])\n",
    "            if 'owners' in local_homes[medi_key]:\n",
    "                if cat_key in local_homes[medi_key]['owners']:\n",
    "                    local_homes[medi_key]['owners'][cat_key].append(owner_name)\n",
    "                else:\n",
    "                    local_homes[medi_key]['owners'][cat_key] = [owner_name]\n",
    "            else:\n",
    "                local_homes[medi_key]['owners'] = {cat_key: [owner_name]}\n",
    "print('{0} ownership data missing'.format(owners_na))"
   ]
  },
  {
   "cell_type": "code",
   "execution_count": 93,
   "metadata": {
    "collapsed": false
   },
   "outputs": [],
   "source": [
    "with open('owner_dates.csv', 'r', encoding='iso-8859-1') as datefile:\n",
    "    reader = csv.DictReader(datefile)\n",
    "    for row in reader:\n",
    "        local_homes[row['fed_key']]['name'] = row['fed_name']\n",
    "        local_homes[row['fed_key']]['sale_date'] = row['owner_date']\n",
    "        local_homes[row['fed_key']]['cond_local'] = row['cond_local'] == 'Y'\n",
    "        local_homes[row['fed_key']]['notes'] = 'Lorem ipsum dolor sit amet, consectetur adipiscing elit. Ut quis velit velit. Ut eget placerat dolor. Fusce nisi lacus, malesuada in pulvinar a, sagittis nec ex. Maecenas facilisis pharetra diam, non sollicitudin massa euismod eleifend. Sed condimentum fermentum ligula nec maximus. Aenean eu elit tempor, elementum ligula sed, placerat nunc. Fusce luctus gravida sapien ut venenatis. Cras quis sollicitudin turpis, sit amet convallis orci.'#row['note']"
   ]
  },
  {
   "cell_type": "code",
   "execution_count": 94,
   "metadata": {
    "collapsed": false
   },
   "outputs": [
    {
     "name": "stdout",
     "output_type": "stream",
     "text": [
      "47.0 found homes in 2009\n",
      "47.0 found homes in 2010\n",
      "47.0 found homes in 2011\n",
      "47.0 found homes in 2012\n",
      "47.0 found homes in 2013\n"
     ]
    }
   ],
   "source": [
    "years = list(range(2009, 2014))\n",
    "for year in years:\n",
    "    found_homes = 0\n",
    "    file_name = 'star_ratings_{0}.csv'.format(year)\n",
    "    with open(file_name, 'r', encoding='iso-8859-1') as datefile:\n",
    "        reader = csv.DictReader(datefile)\n",
    "        for row in reader:\n",
    "            med_key = row['PROVNUM']\n",
    "            if med_key in local_homes:\n",
    "                processed_date = '{0}/1/{1}'.format(row['month'],row['year'][2:])\n",
    "                star_rating = row['overall_rating'][0:1]\n",
    "                local_homes[med_key]['ratings'][processed_date] = {'overall_rate': star_rating}\n",
    "                found_homes += 1\n",
    "    print('{0} found homes in {1}'.format((found_homes/12), year))"
   ]
  },
  {
   "cell_type": "code",
   "execution_count": 95,
   "metadata": {
    "collapsed": false
   },
   "outputs": [
    {
     "name": "stdout",
     "output_type": "stream",
     "text": [
      "[1, 2, 3, 4, 5, 6, 7, 8, 9, 10, 11, 12]\n",
      "[2014, 2015, 2016, 2017, 2018]\n",
      "That's all folks\n"
     ]
    }
   ],
   "source": [
    "months = list(range(1,13))\n",
    "print(months)\n",
    "years = list(range(2014, 2019))\n",
    "print(years)\n",
    "for year in years:\n",
    "    for month in months:\n",
    "        found_homes = 0\n",
    "        if month == 12 and year == 2014:\n",
    "            file_name = 'monthly/Nursing home ratings {0}-{1}.csv'.format(month,year)\n",
    "        elif month == 6 and year == 2018:\n",
    "            print('That\\'s all folks')\n",
    "            break\n",
    "        else:\n",
    "            file_name = 'monthly/Nursing home ratings {0}-{1}.xlsx.csv'.format(month,year)  \n",
    "        with open(file_name, 'r', encoding='iso-8859-1') as datefile:\n",
    "            reader = csv.DictReader(datefile)\n",
    "            for row in reader:\n",
    "                try:\n",
    "                    med_key = row['provnum']\n",
    "                except KeyError:\n",
    "                    med_key = row['PROVNUM']\n",
    "                if med_key in local_homes:\n",
    "                    processed_date = \"{0}/1/{1}\".format(month, str(year)[2:])\n",
    "                    try:\n",
    "                        star_rating = row['overall_rating']\n",
    "                    except KeyError:\n",
    "                        star_rating = row['OVERALL_RATING']\n",
    "                    local_homes[med_key]['ratings'][processed_date] = {'overall_rate': star_rating}\n",
    "                    found_homes += 1\n",
    "        if found_homes != len(local_homes):\n",
    "            print('{0} found homes in {2}-{1}'.format(found_homes, year, month))"
   ]
  },
  {
   "cell_type": "code",
   "execution_count": 96,
   "metadata": {
    "collapsed": false
   },
   "outputs": [
    {
     "name": "stdout",
     "output_type": "stream",
     "text": [
      "{'beds': 120,\n",
      " 'bedsores': 9.65,\n",
      " 'cond_local': False,\n",
      " 'federal_fines': {'detail': [{'amt': 85925, 'survey_date': '5/19/16'}],\n",
      "                   'total': 85925},\n",
      " 'location': '300 DORRANCE AVENUE BUFFALO, NY 14220',\n",
      " 'name': 'Safire Rehabilitation of Southtowns, LLC',\n",
      " 'notes': 'Lorem ipsum dolor sit amet, consectetur adipiscing elit. Ut quis '\n",
      "          'velit velit. Ut eget placerat dolor. Fusce nisi lacus, malesuada in '\n",
      "          'pulvinar a, sagittis nec ex. Maecenas facilisis pharetra diam, non '\n",
      "          'sollicitudin massa euismod eleifend. Sed condimentum fermentum '\n",
      "          'ligula nec maximus. Aenean eu elit tempor, elementum ligula sed, '\n",
      "          'placerat nunc. Fusce luctus gravida sapien ut venenatis. Cras quis '\n",
      "          'sollicitudin turpis, sit amet convallis orci.',\n",
      " 'owners': {'5% or Greater Indirect Ownership Interest': ['SAFIRE '\n",
      "                                                          'REHABILITATION OF '\n",
      "                                                          'SOUTHTOWNS LLC',\n",
      "                                                          'ABRAMCZYK, SOLOMON',\n",
      "                                                          'LANDA, JUDY',\n",
      "                                                          'PLATSCHEK, RICHARD',\n",
      "                                                          'SCHUCK, ROBERT'],\n",
      "            'Managing Employee': ['OTTERBEIN, CHRISTOPHER'],\n",
      "            'Operational/Managerial Control': ['PLATSCHEK, RICHARD'],\n",
      "            'Partnership Interest': ['STEINBURG, MOSHE']},\n",
      " 'private_days': 8.1,\n",
      " 'ratings': {'01/1/13': {'overall_rate': '1'},\n",
      "             '02/1/13': {'overall_rate': '1'},\n",
      "             '03/1/13': {'overall_rate': '1'},\n",
      "             '04/1/13': {'overall_rate': '1'},\n",
      "             '05/1/13': {'overall_rate': '1'},\n",
      "             '06/1/13': {'overall_rate': '2'},\n",
      "             '07/1/13': {'overall_rate': '2'},\n",
      "             '08/1/13': {'overall_rate': '2'},\n",
      "             '09/1/13': {'overall_rate': '2'},\n",
      "             '1/1/09': {'overall_rate': '1'},\n",
      "             '1/1/10': {'overall_rate': '3'},\n",
      "             '1/1/11': {'overall_rate': '1'},\n",
      "             '1/1/12': {'overall_rate': '1'},\n",
      "             '1/1/14': {'overall_rate': '2'},\n",
      "             '1/1/15': {'overall_rate': '1'},\n",
      "             '1/1/16': {'overall_rate': '1'},\n",
      "             '1/1/17': {'overall_rate': '1'},\n",
      "             '1/1/18': {'overall_rate': '2'},\n",
      "             '10/1/09': {'overall_rate': '2'},\n",
      "             '10/1/10': {'overall_rate': '1'},\n",
      "             '10/1/11': {'overall_rate': '1'},\n",
      "             '10/1/12': {'overall_rate': '1'},\n",
      "             '10/1/13': {'overall_rate': '2'},\n",
      "             '10/1/14': {'overall_rate': '1'},\n",
      "             '10/1/15': {'overall_rate': '1'},\n",
      "             '10/1/16': {'overall_rate': '1'},\n",
      "             '10/1/17': {'overall_rate': '2'},\n",
      "             '11/1/09': {'overall_rate': '2'},\n",
      "             '11/1/10': {'overall_rate': '1'},\n",
      "             '11/1/11': {'overall_rate': '1'},\n",
      "             '11/1/12': {'overall_rate': '1'},\n",
      "             '11/1/13': {'overall_rate': '2'},\n",
      "             '11/1/14': {'overall_rate': '1'},\n",
      "             '11/1/15': {'overall_rate': '1'},\n",
      "             '11/1/16': {'overall_rate': '1'},\n",
      "             '11/1/17': {'overall_rate': '2'},\n",
      "             '12/1/09': {'overall_rate': '2'},\n",
      "             '12/1/10': {'overall_rate': '1'},\n",
      "             '12/1/11': {'overall_rate': '1'},\n",
      "             '12/1/12': {'overall_rate': '1'},\n",
      "             '12/1/13': {'overall_rate': '2'},\n",
      "             '12/1/14': {'overall_rate': '1'},\n",
      "             '12/1/15': {'overall_rate': '1'},\n",
      "             '12/1/16': {'overall_rate': '1'},\n",
      "             '12/1/17': {'overall_rate': '2'},\n",
      "             '2/1/09': {'overall_rate': '1'},\n",
      "             '2/1/10': {'overall_rate': '3'},\n",
      "             '2/1/11': {'overall_rate': '1'},\n",
      "             '2/1/12': {'overall_rate': '1'},\n",
      "             '2/1/14': {'overall_rate': '2'},\n",
      "             '2/1/15': {'overall_rate': '1'},\n",
      "             '2/1/16': {'overall_rate': '1'},\n",
      "             '2/1/17': {'overall_rate': '1'},\n",
      "             '2/1/18': {'overall_rate': '2'},\n",
      "             '3/1/09': {'overall_rate': '1'},\n",
      "             '3/1/10': {'overall_rate': '2'},\n",
      "             '3/1/11': {'overall_rate': '1'},\n",
      "             '3/1/12': {'overall_rate': '1'},\n",
      "             '3/1/14': {'overall_rate': '2'},\n",
      "             '3/1/15': {'overall_rate': '1'},\n",
      "             '3/1/16': {'overall_rate': '1'},\n",
      "             '3/1/17': {'overall_rate': '1'},\n",
      "             '3/1/18': {'overall_rate': '2'},\n",
      "             '4/1/09': {'overall_rate': '2'},\n",
      "             '4/1/10': {'overall_rate': '2'},\n",
      "             '4/1/11': {'overall_rate': '1'},\n",
      "             '4/1/12': {'overall_rate': '1'},\n",
      "             '4/1/14': {'overall_rate': '2'},\n",
      "             '4/1/15': {'overall_rate': '1'},\n",
      "             '4/1/16': {'overall_rate': '1'},\n",
      "             '4/1/17': {'overall_rate': '1'},\n",
      "             '4/1/18': {'overall_rate': '2'},\n",
      "             '5/1/09': {'overall_rate': '2'},\n",
      "             '5/1/10': {'overall_rate': '2'},\n",
      "             '5/1/11': {'overall_rate': '1'},\n",
      "             '5/1/12': {'overall_rate': '1'},\n",
      "             '5/1/14': {'overall_rate': '2'},\n",
      "             '5/1/15': {'overall_rate': '1'},\n",
      "             '5/1/16': {'overall_rate': '1'},\n",
      "             '5/1/17': {'overall_rate': '2'},\n",
      "             '5/1/18': {'overall_rate': '2'},\n",
      "             '6/1/09': {'overall_rate': '2'},\n",
      "             '6/1/10': {'overall_rate': '2'},\n",
      "             '6/1/11': {'overall_rate': '1'},\n",
      "             '6/1/12': {'overall_rate': '1'},\n",
      "             '6/1/14': {'overall_rate': '2'},\n",
      "             '6/1/15': {'overall_rate': '1'},\n",
      "             '6/1/16': {'overall_rate': '1'},\n",
      "             '6/1/17': {'overall_rate': '2'},\n",
      "             '6/1/18': {'overall_rate': '2',\n",
      "                        'qm_rate': '5',\n",
      "                        'rn_staff_rate': '2',\n",
      "                        'staff_rate': '2'},\n",
      "             '7/1/09': {'overall_rate': '2'},\n",
      "             '7/1/10': {'overall_rate': '2'},\n",
      "             '7/1/11': {'overall_rate': '1'},\n",
      "             '7/1/12': {'overall_rate': '1'},\n",
      "             '7/1/14': {'overall_rate': '2'},\n",
      "             '7/1/15': {'overall_rate': '1'},\n",
      "             '7/1/16': {'overall_rate': '1'},\n",
      "             '7/1/17': {'overall_rate': '1'},\n",
      "             '8/1/09': {'overall_rate': '2'},\n",
      "             '8/1/10': {'overall_rate': '1'},\n",
      "             '8/1/11': {'overall_rate': '1'},\n",
      "             '8/1/12': {'overall_rate': '1'},\n",
      "             '8/1/14': {'overall_rate': '2'},\n",
      "             '8/1/15': {'overall_rate': '1'},\n",
      "             '8/1/16': {'overall_rate': '1'},\n",
      "             '8/1/17': {'overall_rate': '1'},\n",
      "             '9/1/09': {'overall_rate': '2'},\n",
      "             '9/1/10': {'overall_rate': '1'},\n",
      "             '9/1/11': {'overall_rate': '1'},\n",
      "             '9/1/12': {'overall_rate': '1'},\n",
      "             '9/1/14': {'overall_rate': '2'},\n",
      "             '9/1/15': {'overall_rate': '1'},\n",
      "             '9/1/16': {'overall_rate': '1'},\n",
      "             '9/1/17': {'overall_rate': '1'}},\n",
      " 'sale_date': '10/2/14',\n",
      " 'state_fines': {'detail': [{'amt': 6000,\n",
      "                             'category': 'Multiple Deficiencies',\n",
      "                             'survey_date': '5/19/16 0:00'}],\n",
      "                 'total': 6000}}\n"
     ]
    }
   ],
   "source": [
    "pprint(local_homes['335663'])"
   ]
  },
  {
   "cell_type": "code",
   "execution_count": 97,
   "metadata": {
    "collapsed": false
   },
   "outputs": [],
   "source": [
    "homes_chart = []\n",
    "#options = ['1', '2', '3', '4', '5']\n",
    "for home, info in local_homes.items():\n",
    "    item = {'fpn': home, 'name': info['name'], 'values': [], 'sale_date': info['sale_date']}\n",
    "    dates = sorted(info['ratings'].keys())\n",
    "    \"\"\"item['values'].append({'date': '1/1/13', 'overall_rate': random.choice(options)})\n",
    "    item['values'].append({'date': '1/1/14', 'overall_rate': random.choice(options)})\n",
    "    item['values'].append({'date': '1/1/15', 'overall_rate': random.choice(options)})\n",
    "    item['values'].append({'date': '1/1/16', 'overall_rate': random.choice(options)})\n",
    "    item['values'].append({'date': '1/1/17', 'overall_rate': random.choice(options)})\"\"\"\n",
    "    for dated in dates:\n",
    "        new_dict = info['ratings'][dated]\n",
    "        new_dict['date'] = dated\n",
    "        item['values'].append(new_dict)\n",
    "    homes_chart.append(item)"
   ]
  },
  {
   "cell_type": "code",
   "execution_count": 98,
   "metadata": {
    "collapsed": false
   },
   "outputs": [],
   "source": [
    "sorted_chart = sorted(homes_chart,key=lambda x: x['name'])"
   ]
  },
  {
   "cell_type": "code",
   "execution_count": 99,
   "metadata": {
    "collapsed": false
   },
   "outputs": [],
   "source": [
    "chart_export = {'houses': sorted_chart}\n",
    "with open('chart_export.json', 'w') as datafile:\n",
    "    json.dump(chart_export, datafile)"
   ]
  },
  {
   "cell_type": "code",
   "execution_count": 100,
   "metadata": {
    "collapsed": false
   },
   "outputs": [
    {
     "name": "stdout",
     "output_type": "stream",
     "text": [
      "{'beds': 120,\n",
      " 'bedsores': 9.65,\n",
      " 'cond_local': False,\n",
      " 'federal_fines': {'detail': [{'amt': 85925, 'survey_date': '5/19/16'}],\n",
      "                   'total': 85925},\n",
      " 'location': '300 DORRANCE AVENUE BUFFALO, NY 14220',\n",
      " 'name': 'Safire Rehabilitation of Southtowns, LLC',\n",
      " 'notes': 'Lorem ipsum dolor sit amet, consectetur adipiscing elit. Ut quis '\n",
      "          'velit velit. Ut eget placerat dolor. Fusce nisi lacus, malesuada in '\n",
      "          'pulvinar a, sagittis nec ex. Maecenas facilisis pharetra diam, non '\n",
      "          'sollicitudin massa euismod eleifend. Sed condimentum fermentum '\n",
      "          'ligula nec maximus. Aenean eu elit tempor, elementum ligula sed, '\n",
      "          'placerat nunc. Fusce luctus gravida sapien ut venenatis. Cras quis '\n",
      "          'sollicitudin turpis, sit amet convallis orci.',\n",
      " 'owners': {'5% or Greater Indirect Ownership Interest': ['SAFIRE '\n",
      "                                                          'REHABILITATION OF '\n",
      "                                                          'SOUTHTOWNS LLC',\n",
      "                                                          'ABRAMCZYK, SOLOMON',\n",
      "                                                          'LANDA, JUDY',\n",
      "                                                          'PLATSCHEK, RICHARD',\n",
      "                                                          'SCHUCK, ROBERT'],\n",
      "            'Managing Employee': ['OTTERBEIN, CHRISTOPHER'],\n",
      "            'Operational/Managerial Control': ['PLATSCHEK, RICHARD'],\n",
      "            'Partnership Interest': ['STEINBURG, MOSHE']},\n",
      " 'private_days': 8.1,\n",
      " 'ratings': {'6/1/18': {'date': '6/1/18',\n",
      "                        'overall_rate': '2',\n",
      "                        'qm_rate': '5',\n",
      "                        'rn_staff_rate': '2',\n",
      "                        'staff_rate': '2'}},\n",
      " 'sale_date': '10/2/14',\n",
      " 'state_fines': {'detail': [{'amt': 6000,\n",
      "                             'category': 'Multiple Deficiencies',\n",
      "                             'survey_date': '5/19/16 0:00'}],\n",
      "                 'total': 6000}}\n"
     ]
    }
   ],
   "source": [
    "for home, info in local_homes.items():\n",
    "    new_ratings = {'6/1/18':{}}\n",
    "    new_ratings['6/1/18'] = info['ratings']['6/1/18']\n",
    "    local_homes[home]['ratings'] = new_ratings\n",
    "pprint(local_homes['335663'])"
   ]
  },
  {
   "cell_type": "code",
   "execution_count": 101,
   "metadata": {
    "collapsed": false
   },
   "outputs": [
    {
     "name": "stdout",
     "output_type": "stream",
     "text": [
      "{'beds': 96,\n",
      " 'bedsores': 0.46,\n",
      " 'cond_local': True,\n",
      " 'location': '1818 COMO PARK BLVD LANCASTER, NY 14086',\n",
      " 'name': 'Elderwood at Lancaster',\n",
      " 'notes': 'Lorem ipsum dolor sit amet, consectetur adipiscing elit. Ut quis '\n",
      "          'velit velit. Ut eget placerat dolor. Fusce nisi lacus, malesuada in '\n",
      "          'pulvinar a, sagittis nec ex. Maecenas facilisis pharetra diam, non '\n",
      "          'sollicitudin massa euismod eleifend. Sed condimentum fermentum '\n",
      "          'ligula nec maximus. Aenean eu elit tempor, elementum ligula sed, '\n",
      "          'placerat nunc. Fusce luctus gravida sapien ut venenatis. Cras quis '\n",
      "          'sollicitudin turpis, sit amet convallis orci.',\n",
      " 'owners': {'5% or Greater Direct Ownership Interest': ['COLE, WARREN (50%)',\n",
      "                                                        'RUBIN, JEFFREY (50%)'],\n",
      "            'Managing Employee': ['BOTHWELL, DENISE'],\n",
      "            'Operational/Managerial Control': ['COLE, WARREN',\n",
      "                                               'RUBIN, JEFFREY']},\n",
      " 'private_days': 18.2,\n",
      " 'ratings': {'6/1/18': {'date': '6/1/18',\n",
      "                        'overall_rate': '5',\n",
      "                        'qm_rate': '5',\n",
      "                        'rn_staff_rate': '5',\n",
      "                        'staff_rate': '4'}},\n",
      " 'sale_date': '4/5/12'}\n"
     ]
    }
   ],
   "source": [
    "pprint(local_homes['335577'])"
   ]
  },
  {
   "cell_type": "code",
   "execution_count": 102,
   "metadata": {
    "collapsed": true
   },
   "outputs": [],
   "source": [
    "with open('data.json', 'w') as datafile:\n",
    "    json.dump(local_homes, datafile)"
   ]
  },
  {
   "cell_type": "code",
   "execution_count": null,
   "metadata": {
    "collapsed": true
   },
   "outputs": [],
   "source": []
  }
 ],
 "metadata": {
  "kernelspec": {
   "display_name": "Python 3",
   "language": "python",
   "name": "python3"
  },
  "language_info": {
   "codemirror_mode": {
    "name": "ipython",
    "version": 3
   },
   "file_extension": ".py",
   "mimetype": "text/x-python",
   "name": "python",
   "nbconvert_exporter": "python",
   "pygments_lexer": "ipython3",
   "version": "3.5.2"
  }
 },
 "nbformat": 4,
 "nbformat_minor": 0
}
